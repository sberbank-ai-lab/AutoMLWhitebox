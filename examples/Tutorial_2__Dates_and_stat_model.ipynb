{
 "cells": [
  {
   "cell_type": "code",
   "execution_count": null,
   "metadata": {},
   "outputs": [],
   "source": [
    "import pandas as pd\n",
    "import numpy as np\n",
    "import lightgbm as lgb\n",
    "\n",
    "from collections import OrderedDict\n",
    "from sklearn.metrics import roc_auc_score\n",
    "from copy import deepcopy\n",
    "\n",
    "from autowoe import ReportDeco, AutoWoE"
   ]
  },
  {
   "cell_type": "markdown",
   "metadata": {},
   "source": [
    "### Чтение и подготовка обучающей выборки"
   ]
  },
  {
   "cell_type": "code",
   "execution_count": null,
   "metadata": {},
   "outputs": [],
   "source": [
    "train = pd.read_csv(\"./data/train_demo.csv\",\n",
    "                    low_memory=False,\n",
    "                    index_col=\"line_id\",\n",
    "                    parse_dates = [\"datetime_\" + str(i) for i in range(2)],)"
   ]
  },
  {
   "cell_type": "markdown",
   "metadata": {},
   "source": [
    "### Чтение и подготовка тестовой выборки"
   ]
  },
  {
   "cell_type": "code",
   "execution_count": null,
   "metadata": {},
   "outputs": [],
   "source": [
    "test = pd.read_csv(\"./data/test_demo.csv\",\n",
    "                   index_col=\"line_id\", \n",
    "                   parse_dates = [\"datetime_\" + str(i) for i in range(2)])\n",
    "    \n",
    "test_target = pd.read_csv(\"./data/test-target_demo.csv\")[\"target\"]\n",
    "test[\"target\"] = test_target.values"
   ]
  },
  {
   "cell_type": "markdown",
   "metadata": {},
   "source": [
    "### Параметры модели"
   ]
  },
  {
   "cell_type": "markdown",
   "metadata": {},
   "source": [
    "Для обучения модели рекомендуется указать тип признаков для обучения.\n",
    "Поэтому создается словарь features_type с ключами: \n",
    "\n",
    " \"real\" -- вещественный признак\n",
    " \n",
    " \"cat\" --  категориальный.\n",
    " \n",
    " __\"date\"-- (\"%Y%d%m\", (\"m\", \"d\", \"wd\", \"h\", \"min\"))__\n",
    " \n",
    " Для признаков, которые не размечены, типы будут определены автоматом. Такой вариант будет работать, но качество порядочно просядет\n",
    " \n",
    "__Попробуем указать даты с форматом None (автоопределение) и сезонностью - день месяца и день недели__"
   ]
  },
  {
   "cell_type": "markdown",
   "metadata": {},
   "source": [
    "#### features_type"
   ]
  },
  {
   "cell_type": "code",
   "execution_count": null,
   "metadata": {},
   "outputs": [],
   "source": [
    "num_col = list(filter(lambda x: \"numb\" in x, train.columns))\n",
    "num_feature_type = {x: \"real\" for x in num_col}\n",
    "\n",
    "date_col = list(filter(lambda x: \"datetime\" in x, train.columns))\n",
    "date_feature_type = {x: (None, (\"d\", \"wd\")) for x in date_col}"
   ]
  },
  {
   "cell_type": "code",
   "execution_count": null,
   "metadata": {},
   "outputs": [],
   "source": [
    "features_type = dict(**num_feature_type,\n",
    "                     **date_feature_type\n",
    "                    )"
   ]
  },
  {
   "cell_type": "code",
   "execution_count": null,
   "metadata": {},
   "outputs": [],
   "source": [
    "# подробно параметры описаны в Example_1\n",
    "auto_woe = AutoWoE(monotonic=True,\n",
    "                     max_bin_count=4,\n",
    "                     oof_woe=False,\n",
    "                     regularized_refit=False,\n",
    "                     p_val=0.05,\n",
    "                     debug=False,\n",
    "                     verbose=0\n",
    "        )\n",
    "auto_woe = ReportDeco(auto_woe)"
   ]
  },
  {
   "cell_type": "code",
   "execution_count": null,
   "metadata": {
    "scrolled": true
   },
   "outputs": [],
   "source": [
    "auto_woe.fit(train[num_col + date_col + ['target']], \n",
    "             target_name=\"target\",\n",
    "             features_type=features_type,\n",
    "            )"
   ]
  },
  {
   "cell_type": "code",
   "execution_count": null,
   "metadata": {
    "scrolled": true
   },
   "outputs": [],
   "source": [
    "\n",
    "pred = auto_woe.predict_proba(test)\n",
    "roc_auc_score(test['target'], pred)"
   ]
  },
  {
   "cell_type": "markdown",
   "metadata": {},
   "source": [
    "##### Замечание\n",
    "ReportDeco - обертка для построения отчета. Она не обязательна для обучения и применения модели, но обязательна для построения отчета (см последнюю ячейку)."
   ]
  },
  {
   "cell_type": "markdown",
   "metadata": {},
   "source": [
    "### Значения коэфициентов и p-values\n",
    "\n",
    "При указании regularized_refit=False будет произведена оценка p-value на коэфициенты модели. Коэфициенты с p-value выше указанного порога не будут включены в модель"
   ]
  },
  {
   "cell_type": "code",
   "execution_count": null,
   "metadata": {},
   "outputs": [],
   "source": [
    "auto_woe.features_fit"
   ]
  },
  {
   "cell_type": "code",
   "execution_count": null,
   "metadata": {},
   "outputs": [],
   "source": [
    "auto_woe.intercept"
   ]
  },
  {
   "cell_type": "code",
   "execution_count": null,
   "metadata": {},
   "outputs": [],
   "source": [
    "auto_woe.p_vals"
   ]
  },
  {
   "cell_type": "markdown",
   "metadata": {},
   "source": [
    "### Формирование отчета"
   ]
  },
  {
   "cell_type": "code",
   "execution_count": null,
   "metadata": {},
   "outputs": [],
   "source": [
    "report_params = {\"automl_date_column\": \"report_month\", # колонка с датой в формате params['datetimeFormat']\n",
    "                 \"output_path\": \"./AUTOWOE_REPORT_2\", # папка, куда сгенерится отчет и сложатся нужные файлы\n",
    "                 \"report_name\": \"___НАЗВАНИЕ ОТЧЕТА___\",\n",
    "                 \"report_version_id\": 1,\n",
    "                 \"city\": \"Воронеж\",\n",
    "                 \"model_aim\": \"___ЦЕЛЬ ПОСТРОЕНИЯ МОДЕЛИ___\",\n",
    "                 \"model_name\": \"___НАЗВАНИЕ МОДЕЛИ___\",\n",
    "                 \"zakazchik\": \"___ЗАКАЗЧИК___\",\n",
    "                 \"high_level_department\": \"___ПОДРАЗДЕЛЕНИЕ___\",\n",
    "                 \"ds_name\": \"___РАЗРАБОТЧИК МОДЕЛИ___\",\n",
    "                 \"target_descr\": \"___ОПИСАНИЕ ЦЕЛЕВОГО СОБЫТИЯ___\",\n",
    "                 \"non_target_descr\": \"___ОПИСАНИЕ НЕЦЕЛЕВОГО СОБЫТИЯ___\"}\n",
    "\n",
    "auto_woe.generate_report(report_params)"
   ]
  },
  {
   "cell_type": "code",
   "execution_count": null,
   "metadata": {},
   "outputs": [],
   "source": []
  }
 ],
 "metadata": {
  "kernelspec": {
   "display_name": "Python 3",
   "language": "python",
   "name": "python3"
  },
  "language_info": {
   "codemirror_mode": {
    "name": "ipython",
    "version": 3
   },
   "file_extension": ".py",
   "mimetype": "text/x-python",
   "name": "python",
   "nbconvert_exporter": "python",
   "pygments_lexer": "ipython3",
   "version": "3.6.9"
  },
  "stem_cell": {
   "cell_type": "raw",
   "metadata": {
    "pycharm": {
     "metadata": false
    }
   },
   "source": ""
  }
 },
 "nbformat": 4,
 "nbformat_minor": 1
}
